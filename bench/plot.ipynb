{
 "cells": [
  {
   "cell_type": "markdown",
   "id": "1f16e3b9",
   "metadata": {},
   "source": [
    "# NetBench Minimal Plots (single-folder utilities)\n",
    "\n",
    "Reads `../data/csv/summary_all.csv` and makes quick charts."
   ]
  },
  {
   "cell_type": "code",
   "execution_count": 1,
   "id": "9a32c2b6",
   "metadata": {},
   "outputs": [
    {
     "data": {
      "text/html": [
       "<div>\n",
       "<style scoped>\n",
       "    .dataframe tbody tr th:only-of-type {\n",
       "        vertical-align: middle;\n",
       "    }\n",
       "\n",
       "    .dataframe tbody tr th {\n",
       "        vertical-align: top;\n",
       "    }\n",
       "\n",
       "    .dataframe thead th {\n",
       "        text-align: right;\n",
       "    }\n",
       "</style>\n",
       "<table border=\"1\" class=\"dataframe\">\n",
       "  <thead>\n",
       "    <tr style=\"text-align: right;\">\n",
       "      <th></th>\n",
       "      <th>ts</th>\n",
       "      <th>ts_iso</th>\n",
       "      <th>mode</th>\n",
       "      <th>baseUrl</th>\n",
       "      <th>count</th>\n",
       "      <th>totalTime_s</th>\n",
       "      <th>totalBytes_B</th>\n",
       "      <th>wifiBytes_B</th>\n",
       "      <th>cellBytes_B</th>\n",
       "      <th>success</th>\n",
       "      <th>fail</th>\n",
       "    </tr>\n",
       "  </thead>\n",
       "  <tbody>\n",
       "    <tr>\n",
       "      <th>0</th>\n",
       "      <td>1757240707311</td>\n",
       "      <td>2025-09-07T10:25:07.311000Z</td>\n",
       "      <td>WIFI_ONLY</td>\n",
       "      <td>http://139.224.130.188/images</td>\n",
       "      <td>50</td>\n",
       "      <td>9.890</td>\n",
       "      <td>68265283</td>\n",
       "      <td>68265283</td>\n",
       "      <td>0</td>\n",
       "      <td>50</td>\n",
       "      <td>0</td>\n",
       "    </tr>\n",
       "    <tr>\n",
       "      <th>1</th>\n",
       "      <td>1757240715826</td>\n",
       "      <td>2025-09-07T10:25:15.826000Z</td>\n",
       "      <td>WIFI_ONLY</td>\n",
       "      <td>http://139.224.130.188/images</td>\n",
       "      <td>50</td>\n",
       "      <td>8.513</td>\n",
       "      <td>68265283</td>\n",
       "      <td>68265283</td>\n",
       "      <td>0</td>\n",
       "      <td>50</td>\n",
       "      <td>0</td>\n",
       "    </tr>\n",
       "    <tr>\n",
       "      <th>2</th>\n",
       "      <td>1757240722804</td>\n",
       "      <td>2025-09-07T10:25:22.804000Z</td>\n",
       "      <td>WIFI_ONLY</td>\n",
       "      <td>http://139.224.130.188/images</td>\n",
       "      <td>50</td>\n",
       "      <td>6.977</td>\n",
       "      <td>68265283</td>\n",
       "      <td>68265283</td>\n",
       "      <td>0</td>\n",
       "      <td>50</td>\n",
       "      <td>0</td>\n",
       "    </tr>\n",
       "    <tr>\n",
       "      <th>3</th>\n",
       "      <td>1757240729437</td>\n",
       "      <td>2025-09-07T10:25:29.437000Z</td>\n",
       "      <td>WIFI_ONLY</td>\n",
       "      <td>http://139.224.130.188/images</td>\n",
       "      <td>50</td>\n",
       "      <td>6.632</td>\n",
       "      <td>68265283</td>\n",
       "      <td>68265283</td>\n",
       "      <td>0</td>\n",
       "      <td>50</td>\n",
       "      <td>0</td>\n",
       "    </tr>\n",
       "    <tr>\n",
       "      <th>4</th>\n",
       "      <td>1757240902770</td>\n",
       "      <td>2025-09-07T10:28:22.770000Z</td>\n",
       "      <td>WIFI_ONLY</td>\n",
       "      <td>http://139.224.130.188/images</td>\n",
       "      <td>50</td>\n",
       "      <td>173.331</td>\n",
       "      <td>63199723</td>\n",
       "      <td>63199723</td>\n",
       "      <td>0</td>\n",
       "      <td>48</td>\n",
       "      <td>2</td>\n",
       "    </tr>\n",
       "  </tbody>\n",
       "</table>\n",
       "</div>"
      ],
      "text/plain": [
       "              ts                       ts_iso       mode  \\\n",
       "0  1757240707311  2025-09-07T10:25:07.311000Z  WIFI_ONLY   \n",
       "1  1757240715826  2025-09-07T10:25:15.826000Z  WIFI_ONLY   \n",
       "2  1757240722804  2025-09-07T10:25:22.804000Z  WIFI_ONLY   \n",
       "3  1757240729437  2025-09-07T10:25:29.437000Z  WIFI_ONLY   \n",
       "4  1757240902770  2025-09-07T10:28:22.770000Z  WIFI_ONLY   \n",
       "\n",
       "                         baseUrl  count  totalTime_s  totalBytes_B  \\\n",
       "0  http://139.224.130.188/images     50        9.890      68265283   \n",
       "1  http://139.224.130.188/images     50        8.513      68265283   \n",
       "2  http://139.224.130.188/images     50        6.977      68265283   \n",
       "3  http://139.224.130.188/images     50        6.632      68265283   \n",
       "4  http://139.224.130.188/images     50      173.331      63199723   \n",
       "\n",
       "   wifiBytes_B  cellBytes_B  success  fail  \n",
       "0     68265283            0       50     0  \n",
       "1     68265283            0       50     0  \n",
       "2     68265283            0       50     0  \n",
       "3     68265283            0       50     0  \n",
       "4     63199723            0       48     2  "
      ]
     },
     "metadata": {},
     "output_type": "display_data"
    }
   ],
   "source": [
    "import pandas as pd\n",
    "import matplotlib.pyplot as plt\n",
    "\n",
    "summary_path = '../data/csv/summary_all.csv'\n",
    "df = pd.read_csv(summary_path)\n",
    "if df.empty:\n",
    "    raise SystemExit(\"summary_all.csv is empty. Run the scripts first.\")\n",
    "display(df.head())\n"
   ]
  },
  {
   "cell_type": "markdown",
   "id": "db7696cf",
   "metadata": {},
   "source": [
    "## Boxplot: Total Time by Mode"
   ]
  },
  {
   "cell_type": "code",
   "execution_count": 2,
   "id": "267b77eb",
   "metadata": {},
   "outputs": [
    {
     "name": "stderr",
     "output_type": "stream",
     "text": [
      "C:\\Users\\legion\\AppData\\Local\\Temp\\ipykernel_11044\\1078096970.py:5: MatplotlibDeprecationWarning: The 'labels' parameter of boxplot() has been renamed 'tick_labels' since Matplotlib 3.9; support for the old name will be dropped in 3.11.\n",
      "  plt.boxplot(data, labels=modes, showmeans=True)\n"
     ]
    },
    {
     "data": {
      "image/png": "[encoded data removed]",
      "text/plain": [
       "<Figure size 600x400 with 1 Axes>"
      ]
     },
     "metadata": {},
     "output_type": "display_data"
    }
   ],
   "source": [
    "modes = sorted(df['mode'].unique().tolist())\n",
    "data = [df[df['mode']==m]['totalTime_s'] for m in modes]\n",
    "\n",
    "plt.figure(figsize=(6,4))\n",
    "plt.boxplot(data, labels=modes, showmeans=True)\n",
    "plt.title('Total Time (s) by Mode')\n",
    "plt.ylabel('Seconds')\n",
    "plt.tight_layout()\n",
    "plt.show()\n"
   ]
  },
  {
   "cell_type": "markdown",
   "id": "5379a3eb",
   "metadata": {},
   "source": [
    "## Bar Chart: Mean Total Time per Mode"
   ]
  },
  {
   "cell_type": "code",
   "execution_count": 3,
   "id": "1b5c0da9",
   "metadata": {},
   "outputs": [
    {
     "data": {
      "image/png": "[encoded data removed]",
      "text/plain": [
       "<Figure size 600x400 with 1 Axes>"
      ]
     },
     "metadata": {},
     "output_type": "display_data"
    }
   ],
   "source": [
    "g = df.groupby('mode')['totalTime_s'].mean().reset_index()\n",
    "plt.figure(figsize=(6,4))\n",
    "plt.bar(g['mode'], g['totalTime_s'])\n",
    "plt.title('Mean Total Time per Mode')\n",
    "plt.ylabel('Seconds')\n",
    "plt.tight_layout()\n",
    "plt.show()\n"
   ]
  },
  {
   "cell_type": "markdown",
   "id": "60e9e58f",
   "metadata": {},
   "source": [
    "## Bar Chart: Mean Cellular Share (%) per Mode"
   ]
  },
  {
   "cell_type": "code",
   "execution_count": 4,
   "id": "151d93b2",
   "metadata": {},
   "outputs": [
    {
     "data": {
      "image/png": "[encoded data removed]",
      "text/plain": [
       "<Figure size 600x400 with 1 Axes>"
      ]
     },
     "metadata": {},
     "output_type": "display_data"
    }
   ],
   "source": [
    "df['cell_share_pct'] = (df['cellBytes_B'] / df['totalBytes_B']).fillna(0) * 100.0\n",
    "g2 = df.groupby('mode')['cell_share_pct'].mean().reset_index()\n",
    "plt.figure(figsize=(6,4))\n",
    "plt.bar(g2['mode'], g2['cell_share_pct'])\n",
    "plt.title('Mean Cellular Share (%)')\n",
    "plt.ylabel('%')\n",
    "plt.tight_layout()\n",
    "plt.show()\n"
   ]
  }
 ],
 "metadata": {
  "kernelspec": {
   "display_name": "Python 3 (ipykernel)",
   "language": "python",
   "name": "python3"
  },
  "language_info": {
   "codemirror_mode": {
    "name": "ipython",
    "version": 3
   },
   "file_extension": ".py",
   "mimetype": "text/x-python",
   "name": "python",
   "nbconvert_exporter": "python",
   "pygments_lexer": "ipython3",
   "version": "3.13.5"
  }
 },
 "nbformat": 4,
 "nbformat_minor": 5
}

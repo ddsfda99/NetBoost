{
 "cells": [
  {
   "cell_type": "markdown",
   "id": "1f16e3b9",
   "metadata": {},
   "source": [
    "# NetBench Minimal Plots (single-folder utilities)\n",
    "\n",
    "Reads `../data/csv/summary_all.csv` and makes quick charts."
   ]
  },
  {
   "cell_type": "code",
   "execution_count": null,
   "id": "9a32c2b6",
   "metadata": {},
   "outputs": [],
   "source": [
    "import pandas as pd\n",
    "import matplotlib.pyplot as plt\n",
    "\n",
    "summary_path = '../data/csv/summary_all.csv'\n",
    "df = pd.read_csv(summary_path)\n",
    "if df.empty:\n",
    "    raise SystemExit(\"summary_all.csv is empty. Run the scripts first.\")\n",
    "display(df.head())\n"
   ]
  },
  {
   "cell_type": "markdown",
   "id": "db7696cf",
   "metadata": {},
   "source": [
    "## Boxplot: Total Time by Mode"
   ]
  },
  {
   "cell_type": "code",
   "execution_count": null,
   "id": "267b77eb",
   "metadata": {},
   "outputs": [],
   "source": [
    "modes = sorted(df['mode'].unique().tolist())\n",
    "data = [df[df['mode']==m]['totalTime_s'] for m in modes]\n",
    "\n",
    "plt.figure(figsize=(6,4))\n",
    "plt.boxplot(data, labels=modes, showmeans=True)\n",
    "plt.title('Total Time (s) by Mode')\n",
    "plt.ylabel('Seconds')\n",
    "plt.tight_layout()\n",
    "plt.show()\n"
   ]
  },
  {
   "cell_type": "markdown",
   "id": "5379a3eb",
   "metadata": {},
   "source": [
    "## Bar Chart: Mean Total Time per Mode"
   ]
  },
  {
   "cell_type": "code",
   "execution_count": null,
   "id": "1b5c0da9",
   "metadata": {},
   "outputs": [],
   "source": [
    "g = df.groupby('mode')['totalTime_s'].mean().reset_index()\n",
    "plt.figure(figsize=(6,4))\n",
    "plt.bar(g['mode'], g['totalTime_s'])\n",
    "plt.title('Mean Total Time per Mode')\n",
    "plt.ylabel('Seconds')\n",
    "plt.tight_layout()\n",
    "plt.show()\n"
   ]
  },
  {
   "cell_type": "markdown",
   "id": "60e9e58f",
   "metadata": {},
   "source": [
    "## Bar Chart: Mean Cellular Share (%) per Mode"
   ]
  },
  {
   "cell_type": "code",
   "execution_count": null,
   "id": "151d93b2",
   "metadata": {},
   "outputs": [],
   "source": [
    "df['cell_share_pct'] = (df['cellBytes_B'] / df['totalBytes_B']).fillna(0) * 100.0\n",
    "g2 = df.groupby('mode')['cell_share_pct'].mean().reset_index()\n",
    "plt.figure(figsize=(6,4))\n",
    "plt.bar(g2['mode'], g2['cell_share_pct'])\n",
    "plt.title('Mean Cellular Share (%)')\n",
    "plt.ylabel('%')\n",
    "plt.tight_layout()\n",
    "plt.show()\n"
   ]
  }
 ],
 "metadata": {},
 "nbformat": 4,
 "nbformat_minor": 5
}
